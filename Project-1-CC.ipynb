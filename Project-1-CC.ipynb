{
 "cells": [
  {
   "cell_type": "markdown",
   "metadata": {},
   "source": [
    "<img src=\"http://imgur.com/1ZcRyrc.png\" style=\"float: left; margin: 20px; height: 55px\">\n",
    "\n",
    "# Project 1: Python Coding Exercises\n",
    "\n",
    "_Authors: Joseph Nelson (DC) _\n",
    "\n",
    "---"
   ]
  },
  {
   "cell_type": "markdown",
   "metadata": {},
   "source": [
    "The following code challenges are drawn from common exercises used in technical interviews.\n",
    "\n",
    "Please note that there may be several ways to approach each challenge. If you get stuck, try mapping out your approach in pseudocode first. Finally, while solutions to problems like these may be found online, remember that if you copy/paste code that you can't explain, you'll be missing out on the point of the project. The only way to truly learn a new skill is through practice, trial, and error - we can only help you improve by understanding where you are having trouble."
   ]
  },
  {
   "cell_type": "markdown",
   "metadata": {},
   "source": [
    "### Challenge 1: Largest Palindrome\n",
    "A palindromic number reads the same both ways. For example, 1234321 is a palindrome. The largest palindrome made from the product of two two-digit numbers is 9009 = 91 × 99. Find the largest palindrome made from the product of two three-digit numbers. Afterward, write a brief explanation walking through your code's logic in markdown."
   ]
  },
  {
   "cell_type": "code",
   "execution_count": 25,
   "metadata": {},
   "outputs": [
    {
     "name": "stdout",
     "output_type": "stream",
     "text": [
      "906609\n",
      "true\n",
      "1234321\n"
     ]
    }
   ],
   "source": [
    "#start solution\n",
    "def palindrome_test(p):\n",
    "    return str(p) == str(p)[::-1]\n",
    "palindrome =[]\n",
    "for i in range(100,999):\n",
    "    for j in range(100,999):\n",
    "        pal = i*j\n",
    "        if palindrome_test(pal):\n",
    "            palindrome.append(pal)\n",
    "print(max(palindrome))\n",
    "#end solution\n",
    "\n",
    "\n",
    "#test\n",
    "test = 1234321\n",
    "if str(test) == str(test)[::-1]:\n",
    "    print('true')\n",
    "else:\n",
    "    print('false')\n",
    "\n",
    "print(test)\n",
    "#end test"
   ]
  },
  {
   "cell_type": "markdown",
   "metadata": {},
   "source": [
    "I created a function called palindrome_test that tests whether or not a string is a palindrome.\n",
    "\n",
    "Palindrome_test needs to be against strings to compare them forward and backwards, [::-1] looks at the entire string\n",
    "start to finish, stepping one index position at a time.\n",
    "\n",
    "Palindrome starts as an empty list, I have one loop to define the range of three-digit numbers, 100-999\n",
    "then a second loop to test if pal is a palindrome or not, if it is a palindrome, I add it to the palindrome list.\n",
    "\n",
    "To print the result, I print the max palindrome in my list."
   ]
  },
  {
   "cell_type": "markdown",
   "metadata": {},
   "source": [
    "### Challenge 2: Summation of Primes\n",
    "The sum of the primes below 10 is 2 + 3 + 5 + 7 = 17. Find the sum of all the primes below 2,000. Afterward, write a brief explanation walking through your code's logic in markdown."
   ]
  },
  {
   "cell_type": "code",
   "execution_count": 26,
   "metadata": {},
   "outputs": [
    {
     "name": "stdout",
     "output_type": "stream",
     "text": [
      "277050\n"
     ]
    }
   ],
   "source": [
    "#define function to test is number is prime\n",
    "def isPrime(p):\n",
    "    for i in range(2, int(p**0.5) + 1):\n",
    "        if p % i == 0:\n",
    "            return False\n",
    "    return True\n",
    "\n",
    "#use funtion to determine sum of all primes less than 2000\n",
    "sum_of_prime = 0\n",
    "for i in range(2, 2000):\n",
    "    if isPrime(i):\n",
    "        sum_of_prime += i\n",
    "\n",
    "print (sum_of_prime)\n",
    "    "
   ]
  },
  {
   "cell_type": "markdown",
   "metadata": {},
   "source": [
    "First I created a function to check if a number is prime, if it is prime, I return true, if not then false.\n",
    "\n",
    "Then I set sum_of_prime = 0.\n",
    "\n",
    "Next, I created a for loop for all numbers in range 2-1999, if the number is prime then I set sum_of_prime equal to previous sum_of_prime + number (i).\n",
    "\n",
    "Final step is to print the final sum_of_prime variable, which will be the sum of all primes in range."
   ]
  },
  {
   "cell_type": "markdown",
   "metadata": {},
   "source": [
    "### Challenge 3: Multiples of 3 and 5\n",
    "If we list all of the natural numbers below 10 that are multiples of 3 or 5, we get 3, 5, 6, and 9. The sum of these multiples is 23. Find the sum of all the multiples of 3 and 5 below 1,000. Afterward, write a brief explanation walking through your code's logic in markdown."
   ]
  },
  {
   "cell_type": "code",
   "execution_count": 59,
   "metadata": {},
   "outputs": [
    {
     "name": "stdout",
     "output_type": "stream",
     "text": [
      "233168\n"
     ]
    }
   ],
   "source": [
    "#loop through all numbers in range 1-999 that are multiples of 3 and 5\n",
    "multiples = 0\n",
    "for i in range(1, 1000):\n",
    "    if (i%3 == 0 or i%5 == 0):\n",
    "        multiples = multiples+i\n",
    "print(multiples)\n",
    "\n"
   ]
  },
  {
   "cell_type": "markdown",
   "metadata": {},
   "source": [
    "Step1: set multiples = 0\n",
    "\n",
    "Step2: create for loop for each number from 1-999\n",
    "\n",
    "Step3: if the number is divisible by 3 or divisible by 5\n",
    "\n",
    "Step4: set multiples equal to previous multiple + number (i)\n",
    "\n",
    "Step5: print multiple, which will be the sum of all numbers divisible by 3 or 5"
   ]
  },
  {
   "cell_type": "markdown",
   "metadata": {},
   "source": [
    "### Challenge 4: String Compressor\n",
    "Implement a method to perform basic string compression using the counts of repeated characters. (This is called run-length encoding.) For example, the string \"aabcccccaaa\" would become a2b1c5a3. If the “compressed” string would not become smaller than the original string, your method should return the original string. You can assume the string has only uppercase and lowercase letters (a–z). Specify whether your solution is case sensitive or case insensitive and what you would need to change to make it the other. Afterward, write a brief explanation walking through your code's logic in markdown."
   ]
  },
  {
   "cell_type": "code",
   "execution_count": 64,
   "metadata": {},
   "outputs": [
    {
     "data": {
      "text/plain": [
       "'a2b1c5a3'"
      ]
     },
     "execution_count": 64,
     "metadata": {},
     "output_type": "execute_result"
    }
   ],
   "source": [
    "#create function to count repeat characters in a string\n",
    "def string_compressor(string):\n",
    "    compressed = \"\"\n",
    "    char_count = \"\"\n",
    "    count = 0\n",
    "    for char in string:\n",
    "        if char == char_count:\n",
    "            count += 1\n",
    "        else:\n",
    "            if count > 0:\n",
    "                compressed += char_count + str(count)\n",
    "            char_count = char\n",
    "            count = 1\n",
    "    compressed += char_count + str(count)\n",
    "    if len(compressed) < len(string):\n",
    "        return compressed\n",
    "    else:\n",
    "        return string\n",
    "\n",
    "string_compressor('aabcccccaaa')"
   ]
  },
  {
   "cell_type": "markdown",
   "metadata": {},
   "source": [
    "First I set the compressed, char_count, and count to \"\" and 0, respectively.\n",
    "\n",
    "Then I used a for loop for each character in the string, and made the following steps:\n",
    "\n",
    "    Step1: iterate through each character in the string\n",
    "    \n",
    "    Step2: for each character that is equal to the previous one, add 1 to the count\n",
    "    \n",
    "    Step3: if character is not equal to the previous one, add the char_count to the compressed string\n",
    "    \n",
    "    Step4: set the char_count to the character\n",
    "    \n",
    "    Step5: set counter equal to 1 and go to next character\n",
    "    \n",
    "    Step6: add char_count to the compressed string\n",
    "    \n",
    "    Step7: if the length of the compressed string is equal to the original string, return the compressed string\n",
    "    \n",
    "    Step8: otherwise return the original string\n"
   ]
  },
  {
   "cell_type": "markdown",
   "metadata": {},
   "source": [
    "### *BONUS* Challenge: FizzBuzz\n",
    "Write a program that prints all of the numbers from 1 to 100. For multiples of 3, instead of the number, print \"Fizz;\" for multiples of 5, print \"Buzz.\" For numbers that are multiples of both 3 and 5, print \"FizzBuzz.\" Afterward, write a brief explanation walking through your code's logic in markdown."
   ]
  },
  {
   "cell_type": "code",
   "execution_count": 45,
   "metadata": {},
   "outputs": [
    {
     "name": "stdout",
     "output_type": "stream",
     "text": [
      "1\n",
      "2\n",
      "Fizz\n",
      "4\n",
      "Buzz\n",
      "Fizz\n",
      "7\n",
      "8\n",
      "Fizz\n",
      "Buzz\n",
      "11\n",
      "Fizz\n",
      "13\n",
      "14\n",
      "FizzBuzz\n",
      "16\n",
      "17\n",
      "Fizz\n",
      "19\n",
      "Buzz\n",
      "Fizz\n",
      "22\n",
      "23\n",
      "Fizz\n",
      "Buzz\n",
      "26\n",
      "Fizz\n",
      "28\n",
      "29\n",
      "FizzBuzz\n",
      "31\n",
      "32\n",
      "Fizz\n",
      "34\n",
      "Buzz\n",
      "Fizz\n",
      "37\n",
      "38\n",
      "Fizz\n",
      "Buzz\n",
      "41\n",
      "Fizz\n",
      "43\n",
      "44\n",
      "FizzBuzz\n",
      "46\n",
      "47\n",
      "Fizz\n",
      "49\n",
      "Buzz\n",
      "Fizz\n",
      "52\n",
      "53\n",
      "Fizz\n",
      "Buzz\n",
      "56\n",
      "Fizz\n",
      "58\n",
      "59\n",
      "FizzBuzz\n",
      "61\n",
      "62\n",
      "Fizz\n",
      "64\n",
      "Buzz\n",
      "Fizz\n",
      "67\n",
      "68\n",
      "Fizz\n",
      "Buzz\n",
      "71\n",
      "Fizz\n",
      "73\n",
      "74\n",
      "FizzBuzz\n",
      "76\n",
      "77\n",
      "Fizz\n",
      "79\n",
      "Buzz\n",
      "Fizz\n",
      "82\n",
      "83\n",
      "Fizz\n",
      "Buzz\n",
      "86\n",
      "Fizz\n",
      "88\n",
      "89\n",
      "FizzBuzz\n",
      "91\n",
      "92\n",
      "Fizz\n",
      "94\n",
      "Buzz\n",
      "Fizz\n",
      "97\n",
      "98\n",
      "Fizz\n"
     ]
    }
   ],
   "source": [
    "#create loop for range of numbers from 1-99\n",
    "for f in range(1,100):\n",
    "    #divisible by 3 and 5\n",
    "    if f % 3 == 0 and f % 5 == 0:\n",
    "        print(\"FizzBuzz\")\n",
    "        continue\n",
    "    #divisible by 3\n",
    "    elif f % 3 == 0:\n",
    "        print(\"Fizz\")\n",
    "        continue\n",
    "    #divisible by 5\n",
    "    elif f % 5 == 0:\n",
    "        print(\"Buzz\")\n",
    "        continue\n",
    "    print(f)"
   ]
  },
  {
   "cell_type": "markdown",
   "metadata": {},
   "source": [
    "Fist, I created a for loop with a range of 1-100, for each number of the range:\n",
    "    Step1: test if the number is divisible by 3 and 5, return \"FizzBuzz\"\n",
    "    Step2: test if number is divisible by 3, return \"Fizz\"\n",
    "    Step3: if number is divisible by 5, return \"Buzz\"\n",
    "\n",
    "I had to lookup the use of continue in order to get through the entire loop range, it was returning 99 for all \n",
    "numbers in the range otherwise."
   ]
  }
 ],
 "metadata": {
  "anaconda-cloud": {},
  "kernelspec": {
   "display_name": "Python 3",
   "language": "python",
   "name": "python3"
  },
  "language_info": {
   "codemirror_mode": {
    "name": "ipython",
    "version": 3
   },
   "file_extension": ".py",
   "mimetype": "text/x-python",
   "name": "python",
   "nbconvert_exporter": "python",
   "pygments_lexer": "ipython3",
   "version": "3.7.0"
  }
 },
 "nbformat": 4,
 "nbformat_minor": 2
}
